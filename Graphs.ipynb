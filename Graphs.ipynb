{
  "nbformat": 4,
  "nbformat_minor": 0,
  "metadata": {
    "colab": {
      "name": "Graphs.ipynb",
      "provenance": [],
      "collapsed_sections": [],
      "authorship_tag": "ABX9TyMxmDfEX+x8x6q1YajIEVfI",
      "include_colab_link": true
    },
    "kernelspec": {
      "name": "python3",
      "display_name": "Python 3"
    }
  },
  "cells": [
    {
      "cell_type": "markdown",
      "metadata": {
        "id": "view-in-github",
        "colab_type": "text"
      },
      "source": [
        "<a href=\"https://colab.research.google.com/github/cslearning20xx/exploration/blob/master/Graphs.ipynb\" target=\"_parent\"><img src=\"https://colab.research.google.com/assets/colab-badge.svg\" alt=\"Open In Colab\"/></a>"
      ]
    },
    {
      "cell_type": "markdown",
      "metadata": {
        "id": "Rpv_QL0Pl8Op",
        "colab_type": "text"
      },
      "source": [
        "Idea is to build a graph class with vertices and edges and functions to add vertex, add edge"
      ]
    },
    {
      "cell_type": "code",
      "metadata": {
        "id": "-PKTxqPovn45",
        "colab_type": "code",
        "colab": {}
      },
      "source": [
        "import numpy as np\n",
        "import pydot\n",
        "from google.colab import files\n",
        "from IPython.display import Image, display"
      ],
      "execution_count": 0,
      "outputs": []
    },
    {
      "cell_type": "code",
      "metadata": {
        "id": "YqxBvmdMl1Um",
        "colab_type": "code",
        "colab": {}
      },
      "source": [
        "class mygraph:\n",
        "  def __init__(self):\n",
        "    self.vertices = []\n",
        "    self.adjacency_list = {}\n",
        "\n",
        "  def add_vertices(self, vertexnames):\n",
        "    if( len(np.unique(vertexnames)) < len(vertexnames)):\n",
        "      raise Exception(\"You have provided duplicate vertex names\")\n",
        "    vertexnames = np.unique(vertexnames)\n",
        "    duplicates_check = [value for value in self.vertices if value in vertexnames ]\n",
        "    if(len(duplicates_check) > 0):  \n",
        "      raise Exception(\"You have provided vertex names which already exist\")\n",
        "    self.vertices.extend(vertexnames)\n",
        "    print(\"Succesfully added\", vertexnames)\n",
        "    for vertexname in vertexnames:\n",
        "      self.adjacency_list[vertexname]= []\n",
        "\n",
        "  def add_edge(self, vertex_i, vertex_j, verbose = True):\n",
        "    if vertex_j in self.adjacency_list[vertex_i]:\n",
        "      raise Exception(\"Edge between vertex\", vertex_i, \"and vertex\", vertex_j, \"already exists!\")\n",
        "      \n",
        "    self.adjacency_list[vertex_i].append(vertex_j)\n",
        "    if verbose:\n",
        "      print(\"Added edge between vertex\", vertex_i, \"and\", vertex_j)\n",
        "\n",
        "  def showgraph(self, save = False):\n",
        "    graph = pydot.Dot(graph_type='graph')\n",
        "    for Key, Value in self.adjacency_list.items():\n",
        "      for val in Value:\n",
        "        edge = pydot.Edge( Key, val)\n",
        "        graph.add_edge(edge)\n",
        "\n",
        "    display(Image(graph.create_png()))\n",
        "    if save:\n",
        "      graph.write_png('mygraph.png')\n",
        "      files.download( \"mygraph.png\" ) \n",
        "  \n",
        "  def do_dfs(self):\n",
        "    starting_node = self.adjacency_list.keys()[0]\n",
        "    visited_nodes = [starting_node]\n",
        "    \n",
        "    while len(visited_nodes) > 0:\n",
        "      current_node = visited_nodes[-1]\n",
        "      not_visited = []\n",
        "      for val in self.adjacency_list[current_node]:\n",
        "        print(\"a\")\n",
        "        # Pending\n",
        "\n",
        "\n"
      ],
      "execution_count": 0,
      "outputs": []
    },
    {
      "cell_type": "code",
      "metadata": {
        "id": "T8kvFy7qmVRa",
        "colab_type": "code",
        "outputId": "09a4d205-8882-416a-cd07-d998e3b8a4e2",
        "colab": {
          "base_uri": "https://localhost:8080/",
          "height": 392
        }
      },
      "source": [
        "p1 = mygraph()\n",
        "p1.add_vertices([ \"S\", \"A\", \"B\", \"C\", \"D\"])\n",
        "p1.add_edge(\"S\", \"A\")\n",
        "p1.add_edge(\"S\", \"B\")\n",
        "p1.add_edge(\"S\", \"C\")\n",
        "p1.add_edge(\"A\", \"D\")\n",
        "p1.add_edge(\"B\", \"D\")\n",
        "p1.add_edge(\"C\", \"D\")\n",
        "p1.showgraph()"
      ],
      "execution_count": 84,
      "outputs": [
        {
          "output_type": "stream",
          "text": [
            "Succesfully added ['A' 'B' 'C' 'D' 'S'] Current vertex set: ['A', 'B', 'C', 'D', 'S']\n",
            "Added edge between vertex S and A\n",
            "Added edge between vertex S and B\n",
            "Added edge between vertex S and C\n",
            "Added edge between vertex A and D\n",
            "Added edge between vertex B and D\n",
            "Added edge between vertex C and D\n"
          ],
          "name": "stdout"
        },
        {
          "output_type": "display_data",
          "data": {
            "image/png": "[encoded data removed]",
            "text/plain": [
              "<IPython.core.display.Image object>"
            ]
          },
          "metadata": {
            "tags": []
          }
        }
      ]
    }
  ]
}