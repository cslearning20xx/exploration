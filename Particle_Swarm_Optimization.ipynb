{
  "nbformat": 4,
  "nbformat_minor": 0,
  "metadata": {
    "colab": {
      "name": "Particle Swarm Optimization.ipynb",
      "provenance": [],
      "collapsed_sections": [],
      "authorship_tag": "ABX9TyMzbI3s3jbyWSQnefg8b73z",
      "include_colab_link": true
    },
    "kernelspec": {
      "name": "python3",
      "display_name": "Python 3"
    }
  },
  "cells": [
    {
      "cell_type": "markdown",
      "metadata": {
        "id": "view-in-github",
        "colab_type": "text"
      },
      "source": [
        "<a href=\"https://colab.research.google.com/github/cslearning20xx/exploration/blob/master/Particle_Swarm_Optimization.ipynb\" target=\"_parent\"><img src=\"https://colab.research.google.com/assets/colab-badge.svg\" alt=\"Open In Colab\"/></a>"
      ]
    },
    {
      "cell_type": "code",
      "metadata": {
        "id": "CX-ynLoSrHpB",
        "colab_type": "code",
        "colab": {}
      },
      "source": [
        "#Install pyswarm if not already installed\n",
        "#pip install pyswarm"
      ],
      "execution_count": 0,
      "outputs": []
    },
    {
      "cell_type": "code",
      "metadata": {
        "id": "mPSfiacMrP1q",
        "colab_type": "code",
        "outputId": "d0a48e69-a200-4cbc-b5ae-93e6a328464d",
        "colab": {
          "base_uri": "https://localhost:8080/",
          "height": 70
        }
      },
      "source": [
        "import pyswarm\n",
        "from pyswarm import pso\n",
        "\n",
        "# function to optimize\n",
        "def banana(x):\n",
        "    x1 = x[0]\n",
        "    x2 = x[1]\n",
        "    return x1**4 - 2*x2*x1**2 + x2**2 + x1**2 - 2*x1 + 5\n",
        "\n",
        "# optimization constraints\n",
        "def con(x):\n",
        "    x1 = x[0]\n",
        "    x2 = x[1]\n",
        "    return [-(x1 + 0.25)**2 + 0.75*x2]\n",
        "\n",
        "# define some lower and upper bound\n",
        "lb = [-3, -1]\n",
        "ub = [2, 6]\n",
        "\n",
        "# the outputs are 1. optimal input values 2. optimal objective value\n",
        "xopt, fopt = pso(banana, lb, ub, f_ieqcons=con)\n",
        "\n",
        "# Optimum should be around x=[0.5, 0.76] with banana(x)=4.5 and con(x)=0\n",
        "print(xopt)\n",
        "print(fopt)\n"
      ],
      "execution_count": 0,
      "outputs": [
        {
          "output_type": "stream",
          "text": [
            "Stopping search: Swarm best objective change less than 1e-08\n",
            "[0.50007812 0.75015629]\n",
            "4.500000042400557\n"
          ],
          "name": "stdout"
        }
      ]
    },
    {
      "cell_type": "code",
      "metadata": {
        "id": "z-RRpdIFBBEX",
        "colab_type": "code",
        "colab": {}
      },
      "source": [
        "import numpy as np\n",
        "import matplotlib.pyplot as plt\n",
        "import math"
      ],
      "execution_count": 0,
      "outputs": []
    },
    {
      "cell_type": "code",
      "metadata": {
        "id": "Gjt0uGLFLTIZ",
        "colab_type": "code",
        "colab": {}
      },
      "source": [
        "def get_intial_position(numparticles = 20, dimension =2, lowerbound = [-4, -4 ], upperbound = [ 4, 4]):\n",
        "  Current_Position = [ [ np.random.uniform( lowerbound[d], upperbound[d]) for d in range(dimension) ] for i in range(numparticles)] \n",
        "  Current_Position = [ np.array(x) for x in Current_Position]\n",
        "  return Current_Position"
      ],
      "execution_count": 0,
      "outputs": []
    },
    {
      "cell_type": "code",
      "metadata": {
        "id": "gEbx14T3vYEI",
        "colab_type": "code",
        "colab": {}
      },
      "source": [
        "def mypso( optfunc, numparticles = 20, dimension =2, lowerbound = [0, 0 ], upperbound = [ 6, 6], maxiter = 20, c1 = 2, c2= 2):\n",
        "  # Initialize position as a uniform vector of length number of dimensions and bounds as given by lower and upper bound\n",
        "  \n",
        "  Current_Position = get_intial_position(numparticles, dimension, lowerbound, upperbound )\n",
        "\n",
        "  Individual_Best_Position = Current_Position\n",
        "  Individual_Best_Value = [ optfunc(x) for x in Current_Position]\n",
        "\n",
        "  # Initialize with zero velocity\n",
        "  Individual_velocity = [ [0 for d in range(dimension)] for i in range(numparticles) ]\n",
        "\n",
        "  Global_Best_Position = Current_Position[np.argmin(Individual_Best_Value)]\n",
        "  Global_Best_Value = min(Individual_Best_Value)\n",
        "  \n",
        "  Output_Global_Best_Values = []\n",
        "  Output_Global_Best_Positions = []\n",
        "\n",
        "  Itercount = 0\n",
        "  Convergence = False\n",
        "  while Itercount < maxiter and Convergence == False:\n",
        "    for particle in range(numparticles):\n",
        "      Current_Value = optfunc( Current_Position[particle])\n",
        "\n",
        "      if Current_Value <= optfunc(Individual_Best_Position[particle]):\n",
        "        Individual_Best_Position[particle] = Current_Position[particle]\n",
        "        Individual_Best_Value[particle] = Current_Value\n",
        "      \n",
        "      if Current_Value <= optfunc(Global_Best_Position):\n",
        "        Global_Best_Position = Current_Position[particle]\n",
        "        Global_Best_Value = Current_Value\n",
        "      \n",
        "      X1 = c1 * ( Individual_Best_Position[particle] - Current_Position[particle] )\n",
        "      X2 = c2 * ( Global_Best_Position - Current_Position[particle] )\n",
        "      Individual_velocity[particle] = Individual_velocity[particle] +  X1 + X2\n",
        "\n",
        "      Current_Position[particle] = 0.5 *Current_Position[particle]  + Individual_velocity[particle]\n",
        "    Itercount = Itercount + 1\n",
        "    Output_Global_Best_Values.append(Global_Best_Value)  \n",
        "    Output_Global_Best_Positions.append(Global_Best_Position)  \n",
        "\n",
        "  return { \"Global Best Values\": Output_Global_Best_Values, \"Global Best Positions\": Output_Global_Best_Positions }\n"
      ],
      "execution_count": 0,
      "outputs": []
    },
    {
      "cell_type": "code",
      "metadata": {
        "id": "cdoos0xzPoom",
        "colab_type": "code",
        "outputId": "8e09b8dc-4ce9-448a-f298-625f3d1e9640",
        "colab": {
          "base_uri": "https://localhost:8080/",
          "height": 401
        }
      },
      "source": [
        "output = mypso( optfunc = easom, numparticles = 5, maxiter = 50)\n",
        "\n",
        "plt.plot(output['Global Best Values'])\n",
        "plt.xlabel('Iteration')\n",
        "plt.ylabel('Value')\n",
        "plt.title('Function Value with Iterations')"
      ],
      "execution_count": 0,
      "outputs": [
        {
          "output_type": "stream",
          "text": [
            "[4.08027772 1.91423219] ---> -0.0182748721592055\n",
            "[0.45115148 5.03223868] ---> -5.69768706393191e-06\n",
            "[4.76748204 3.17612494] ---> 0.003908730752852446\n",
            "[2.13751899 4.28529783] ---> -0.021937214826619863\n",
            "[4.5666277  0.03591659] ---> 1.2331700150936925e-06\n"
          ],
          "name": "stdout"
        },
        {
          "output_type": "execute_result",
          "data": {
            "text/plain": [
              "Text(0.5, 1.0, 'Function Value with Iterations')"
            ]
          },
          "metadata": {
            "tags": []
          },
          "execution_count": 138
        },
        {
          "output_type": "display_data",
          "data": {
            "image/png": "[encoded data removed]",
            "text/plain": [
              "<Figure size 432x288 with 1 Axes>"
            ]
          },
          "metadata": {
            "tags": []
          }
        }
      ]
    }
  ]
}